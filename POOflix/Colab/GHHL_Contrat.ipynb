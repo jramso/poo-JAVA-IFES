{
  "cells": [
    {
      "cell_type": "markdown",
      "metadata": {
        "id": "view-in-github",
        "colab_type": "text"
      },
      "source": [
        "<a href=\"https://colab.research.google.com/github/jramso/poo-JAVA-IFES/blob/main/POOflix/Colab/GHHL_Contrat.ipynb\" target=\"_parent\"><img src=\"https://colab.research.google.com/assets/colab-badge.svg\" alt=\"Open In Colab\"/></a>"
      ]
    },
    {
      "cell_type": "markdown",
      "metadata": {
        "id": "6QFjfiOLWl1n"
      },
      "source": [
        "# - POOFLIX - <br> \n"
      ]
    },
    {
      "cell_type": "markdown",
      "metadata": {
        "id": "rltFfCLwpgza"
      },
      "source": [
        "# Conexão com postgres e Relatorios do Sistema"
      ]
    },
    {
      "cell_type": "markdown",
      "metadata": {
        "id": "wxEVO0nFpgzd"
      },
      "source": [
        "## Instalando bibliotecas de acesso ao postgres, manipulação de dados e gráficos"
      ]
    },
    {
      "cell_type": "code",
      "execution_count": null,
      "metadata": {
        "colab": {
          "base_uri": "https://localhost:8080/"
        },
        "id": "aAhAuItwpgzg",
        "outputId": "a4829a8d-f517-4b5a-fa7c-d8385754aded",
        "scrolled": true
      },
      "outputs": [
        {
          "output_type": "stream",
          "name": "stdout",
          "text": [
            "Looking in indexes: https://pypi.org/simple, https://us-python.pkg.dev/colab-wheels/public/simple/\n",
            "Collecting psycopg2-binary\n",
            "  Downloading psycopg2_binary-2.9.5-cp37-cp37m-manylinux_2_17_x86_64.manylinux2014_x86_64.whl (3.0 MB)\n",
            "\u001b[K     |████████████████████████████████| 3.0 MB 7.7 MB/s \n",
            "\u001b[?25hInstalling collected packages: psycopg2-binary\n",
            "Successfully installed psycopg2-binary-2.9.5\n",
            "Looking in indexes: https://pypi.org/simple, https://us-python.pkg.dev/colab-wheels/public/simple/\n",
            "Requirement already satisfied: pandas in /usr/local/lib/python3.7/dist-packages (1.3.5)\n",
            "Requirement already satisfied: python-dateutil>=2.7.3 in /usr/local/lib/python3.7/dist-packages (from pandas) (2.8.2)\n",
            "Requirement already satisfied: numpy>=1.17.3 in /usr/local/lib/python3.7/dist-packages (from pandas) (1.21.6)\n",
            "Requirement already satisfied: pytz>=2017.3 in /usr/local/lib/python3.7/dist-packages (from pandas) (2022.6)\n",
            "Requirement already satisfied: six>=1.5 in /usr/local/lib/python3.7/dist-packages (from python-dateutil>=2.7.3->pandas) (1.15.0)\n"
          ]
        }
      ],
      "source": [
        "!pip install psycopg2-binary\n",
        "!pip install pandas"
      ]
    },
    {
      "cell_type": "markdown",
      "metadata": {
        "id": "sopl99YFpgz1"
      },
      "source": [
        "### Importando bibliotecas"
      ]
    },
    {
      "cell_type": "code",
      "execution_count": 13,
      "metadata": {
        "id": "bLf5p8G2pgz3"
      },
      "outputs": [],
      "source": [
        "import pandas as pd\n",
        "import psycopg2 \n",
        "from psycopg2 import Error"
      ]
    },
    {
      "cell_type": "markdown",
      "source": [
        "### Preenchendo dados de database"
      ],
      "metadata": {
        "id": "pZ5AbTxfC3S1"
      }
    },
    {
      "cell_type": "code",
      "source": [
        "#Using Elephantsql.com\n",
        "h=\"motty.db.elephantsql.com\" #host\n",
        "dt=\"mfdbjbho\" #database name\n",
        "u=\"mfdbjbho\" #user database\n",
        "pa=\"tXjGYj5HTRaOSbi-6oGfx20zGKRAeCP6\" #password database"
      ],
      "metadata": {
        "id": "MEldu32Q-ilv"
      },
      "execution_count": 72,
      "outputs": []
    },
    {
      "cell_type": "markdown",
      "metadata": {
        "id": "n7XG0SI8pgz_"
      },
      "source": [
        "### Conectando e Criando as tabelas"
      ]
    },
    {
      "cell_type": "code",
      "source": [
        "  try:\n",
        "    conn=psycopg2.connect(host=h,\n",
        "                          database=dt,\n",
        "                          user=u,\n",
        "                          password=pa)\n",
        "\n",
        "    cursor = conn.cursor()\n",
        "    # SQL query to create a new table\n",
        "    create_table_query = '''CREATE TABLE ator\n",
        "          (ID INT PRIMARY KEY     NOT NULL,\n",
        "          NOME           VARCHAR(150)    NOT NULL, \n",
        "          NACIONALIDADE        VARCHAR(100)not null); '''\n",
        "    # Execute a command: this creates a new table\n",
        "    cursor.execute(create_table_query)\n",
        "    conn.commit()\n",
        "    print(\"Table created successfully in PostgreSQL \")\n",
        "    #--------------------------------------------------\n",
        "    # SQL query to create a new table\n",
        "    create_table_query = '''CREATE TABLE categoria\n",
        "          (ID INT PRIMARY KEY     NOT NULL,\n",
        "          NOME           VARCHAR(150)    NOT NULL); '''\n",
        "    # Execute a command: this creates a new table\n",
        "    cursor.execute(create_table_query)\n",
        "    conn.commit()\n",
        "    print(\"Table created successfully in PostgreSQL \")\n",
        "    #--------------------------------------------------\n",
        "    # SQL query to create a new table\n",
        "    create_table_query = '''CREATE TABLE serie\n",
        "          (ID INT PRIMARY KEY     NOT NULL,\n",
        "          TITULO           VARCHAR(150)    NOT NULL); '''\n",
        "    # Execute a command: this creates a new table\n",
        "    cursor.execute(create_table_query)\n",
        "    conn.commit()\n",
        "    print(\"Table created successfully in PostgreSQL \")\n",
        "    #--------------------------------------------------\n",
        "    # SQL query to create a new table\n",
        "    create_table_query = '''CREATE TABLE CATEGSERIE\n",
        "          (IDserie INT   NOT NULL,\n",
        "          IDcateg int not null); '''\n",
        "    # Execute a command: thi creates a new table\n",
        "    cursor.execute(create_table_query)\n",
        "    conn.commit()\n",
        "    print(\"Table created successfully in PostgreSQL \")\n",
        "    #--------------------------------------------------\n",
        "    # SQL query to create a new table\n",
        "    create_table_query = '''CREATE TABLE PERSONAGEM\n",
        "          (ID INT PRIMARY KEY     NOT NULL,\n",
        "          NOME           VARCHAR(150)    NOT NULL); '''\n",
        "    # Execute a command: this creates a new table\n",
        "    cursor.execute(create_table_query)\n",
        "    conn.commit()\n",
        "    print(\"Table created successfully in PostgreSQL \")\n",
        "    #--------------------------------------------------\n",
        "    # SQL query to create a new table\n",
        "    create_table_query = '''CREATE TABLE PERFORMANCE\n",
        "          (ID SERIAL PRIMARY KEY     NOT NULL,\n",
        "          IDep int   NOT NULL,\n",
        "          IDpers int not null,\n",
        "          IDator int not null); '''\n",
        "    # Execute a command: this creates a new table\n",
        "    cursor.execute(create_table_query)\n",
        "    conn.commit()\n",
        "    print(\"Table created successfully in PostgreSQL \")\n",
        "    #--------------------------------------------------\n",
        "    # SQL query to create a new table\n",
        "    create_table_query = '''CREATE TABLE EPISODIO\n",
        "          (ID INT PRIMARY KEY     NOT NULL,\n",
        "          numEP int not null,\n",
        "          TEMPORADA int not null,\n",
        "          TITULO VARCHAR(100)   NOT NULL,\n",
        "          RESUMO VARCHAR(500) not null); '''\n",
        "    # Execute a command: thi creates a new table\n",
        "    cursor.execute(create_table_query)\n",
        "    conn.commit()\n",
        "    print(\"Table created successfully in PostgreSQL \")\n",
        "\n",
        "  except (Exception, Error) as error:\n",
        "      print(\"Error while connecting to PostgreSQL\", error)\n",
        "  finally:\n",
        "      if conn:\n",
        "          cursor.close()\n",
        "          conn.close()\n",
        "          print(\"PostgreSQL connection is closed\")\n"
      ],
      "metadata": {
        "colab": {
          "base_uri": "https://localhost:8080/"
        },
        "id": "ow7iOZgb6pgv",
        "outputId": "d27b5b68-f621-4dd8-ea0d-a7dcda388cbe"
      },
      "execution_count": 80,
      "outputs": [
        {
          "output_type": "stream",
          "name": "stdout",
          "text": [
            "Table created successfully in PostgreSQL \n",
            "Table created successfully in PostgreSQL \n",
            "Table created successfully in PostgreSQL \n",
            "Table created successfully in PostgreSQL \n",
            "Table created successfully in PostgreSQL \n",
            "Table created successfully in PostgreSQL \n",
            "Table created successfully in PostgreSQL \n",
            "PostgreSQL connection is closed\n"
          ]
        }
      ]
    },
    {
      "cell_type": "code",
      "execution_count": 19,
      "metadata": {
        "colab": {
          "base_uri": "https://localhost:8080/"
        },
        "id": "GVBRFBxUgBBy",
        "outputId": "dc5ece4d-d051-450c-81ae-0d7b7f16ee6e"
      },
      "outputs": [
        {
          "output_type": "execute_result",
          "data": {
            "text/plain": [
              "<connection object at 0x7f42265a8590; dsn: 'user=mfdbjbho password=xxx dbname=mfdbjbho host=motty.db.elephantsql.com', closed: 1>"
            ]
          },
          "metadata": {},
          "execution_count": 19
        }
      ],
      "source": [
        "conn"
      ]
    },
    {
      "cell_type": "markdown",
      "source": [
        "\n",
        "# Only if necessary\n"
      ],
      "metadata": {
        "id": "ZfBoj3F8TPyv"
      }
    },
    {
      "cell_type": "code",
      "source": [
        "try:\n",
        "    conn = psycopg2.connect(user=u,\n",
        "                                password=pa,\n",
        "                                host=h,\n",
        "                                database=dt)\n",
        "\n",
        "    cursor = conn.cursor()\n",
        "\n",
        "    # Update single record now\n",
        "    sql_delete_query = \"\"\"Delete from Ator\"\"\"\n",
        "    cursor.execute(sql_delete_query)\n",
        "    conn.commit()\n",
        "    count = cursor.rowcount\n",
        "    print(count, \"Record deleted successfully \")\n",
        "    # Update single record now\n",
        "    sql_delete_query = \"\"\"Delete from Categoria\"\"\"\n",
        "    cursor.execute(sql_delete_query)\n",
        "    conn.commit()\n",
        "    count = cursor.rowcount\n",
        "    print(count, \"Record deleted successfully \")\n",
        "    # Update single record now\n",
        "    sql_delete_query = \"\"\"Delete from Episodio\"\"\"\n",
        "    cursor.execute(sql_delete_query)\n",
        "    conn.commit()\n",
        "    count = cursor.rowcount\n",
        "    print(count, \"Record deleted successfully \")\n",
        "    # Update single record now\n",
        "    sql_delete_query = \"\"\"Delete from Personagem\"\"\"\n",
        "    cursor.execute(sql_delete_query)\n",
        "    conn.commit()\n",
        "    count = cursor.rowcount\n",
        "    print(count, \"Record deleted successfully \")\n",
        "    # Update single record now\n",
        "    sql_delete_query = \"\"\"Delete from Performance\"\"\"\n",
        "    cursor.execute(sql_delete_query)\n",
        "    conn.commit()\n",
        "    count = cursor.rowcount\n",
        "    print(count, \"Record deleted successfully \")\n",
        "    # Update single record now\n",
        "    sql_delete_query = \"\"\"Delete from categserie\"\"\"\n",
        "    cursor.execute(sql_delete_query)\n",
        "    conn.commit()\n",
        "    count = cursor.rowcount\n",
        "    print(count, \"Record deleted successfully \")\n",
        "    # Update single record now\n",
        "    sql_delete_query = \"\"\"Delete from serie\"\"\"\n",
        "    cursor.execute(sql_delete_query)\n",
        "    conn.commit()\n",
        "    count = cursor.rowcount\n",
        "    print(count, \"Record deleted successfully \")\n",
        "\n",
        "except (Exception, psycopg2.Error) as error:\n",
        "    print(\"Error in Delete operation\", error)\n",
        "\n",
        "finally:\n",
        "    # closing database connection.\n",
        "    if conn:\n",
        "        cursor.close()\n",
        "        conn.close()\n",
        "        print(\"PostgreSQL connection is closed\")\n"
      ],
      "metadata": {
        "id": "iDhmXcG8QeXx",
        "outputId": "38d8cfaa-5b33-4a51-f902-9edd643f030c",
        "colab": {
          "base_uri": "https://localhost:8080/"
        }
      },
      "execution_count": 79,
      "outputs": [
        {
          "output_type": "stream",
          "name": "stdout",
          "text": [
            "65 Record deleted successfully \n",
            "7 Record deleted successfully \n",
            "0 Record deleted successfully \n",
            "0 Record deleted successfully \n",
            "0 Record deleted successfully \n",
            "3 Record deleted successfully \n",
            "1 Record deleted successfully \n",
            "PostgreSQL connection is closed\n"
          ]
        }
      ]
    },
    {
      "cell_type": "markdown",
      "source": [
        "#Criando Listas de dados .txt pra inserção"
      ],
      "metadata": {
        "id": "byrrKD8NA4yG"
      }
    },
    {
      "cell_type": "code",
      "source": [
        "def criaLista(file):\n",
        "  Lista=[]\n",
        "  try:\n",
        "    with open(file, \"r+\") as f:\n",
        "      # Fazer algo com cada linha\n",
        "      Lista=f.readlines()\n",
        "    print(\"Lido\")\n",
        "  except FileNotFoundError:\n",
        "    print(\"O arquivo não Existe\");\n",
        "  finally:\n",
        "    return Lista;\n",
        "    f.close()\n",
        "\n",
        "ListaAtor=criaLista(\"tabator.txt\")\n",
        "ListaCat=criaLista(\"tabcategoria.txt\")\n",
        "ListaSerie=criaLista(\"tabserie.txt\")\n",
        "ListaCatSerie=criaLista(\"tabcategserie.txt\")\n",
        "ListaEP=criaLista(\"tabepisodio.txt\")\n",
        "ListaPerf=criaLista(\"tabperformance.txt\")\n",
        "ListaPers=criaLista(\"tabpersonagem.txt\")\n"
      ],
      "metadata": {
        "colab": {
          "base_uri": "https://localhost:8080/"
        },
        "id": "4NI6AgIdA3gc",
        "outputId": "573827a3-0599-45f3-b81e-c7bee58956df"
      },
      "execution_count": 81,
      "outputs": [
        {
          "output_type": "stream",
          "name": "stdout",
          "text": [
            "Lido\n",
            "Lido\n",
            "Lido\n",
            "Lido\n",
            "Lido\n",
            "Lido\n",
            "Lido\n"
          ]
        }
      ]
    },
    {
      "cell_type": "markdown",
      "source": [
        "## Iniciando os inserts"
      ],
      "metadata": {
        "id": "lu0zzmKbHo4C"
      }
    },
    {
      "cell_type": "code",
      "source": [
        "try:\n",
        "  conn=psycopg2.connect(host=h,\n",
        "                        database=dt, \n",
        "                        user=u,\n",
        "          password=pa)\n",
        "  cursor = conn.cursor()\n",
        "  \n",
        "  for i in range(len(ListaAtor)):\n",
        "    postgres_insert_query = \"\"\" INSERT INTO  ator(ID, nome, nacionalidade) VALUES (%s,%s,%s)\"\"\"\n",
        "    insert=ListaAtor[i].split(\";\")\n",
        "    id=insert[0]\n",
        "    nome=insert[1]\n",
        "    nacionalidade=insert[2]\n",
        "\n",
        "    record_to_insert = (id,nome,nacionalidade)\n",
        "    cursor.execute(postgres_insert_query, record_to_insert)\n",
        "    \n",
        "    conn.commit()\n",
        "    count=cursor.rowcount;\n",
        "    print(count+i, \"Record inserted successfully into ator table\")\n",
        "  #-------------------------------------------------------------------\n",
        "  for i in range(len(ListaCat)):\n",
        "    postgres_insert_query = \"\"\" INSERT INTO  categoria(ID, nome) VALUES (%s,%s)\"\"\"\n",
        "    insert=ListaCat[i].split(\";\")\n",
        "    idC=insert[0]\n",
        "    nomeC=insert[1]\n",
        "\n",
        "    record_to_insert = (idC,nomeC)\n",
        "    cursor.execute(postgres_insert_query, record_to_insert)\n",
        "    \n",
        "    conn.commit()\n",
        "    count=cursor.rowcount;\n",
        "    print(count+i, \"Record inserted successfully into categoria table\")\n",
        "  #----------------------------------------------------------------\n",
        "  for i in range(len(ListaSerie)):\n",
        "    postgres_insert_query = \"\"\" INSERT INTO  serie(ID, titulo) VALUES (%s,%s)\"\"\"\n",
        "    insert=ListaSerie[i].split(\";\")\n",
        "    idS=insert[0]\n",
        "    nomeS=insert[1]\n",
        "\n",
        "    record_to_insert = (idS,nomeS)\n",
        "    cursor.execute(postgres_insert_query, record_to_insert)\n",
        "    \n",
        "    conn.commit()\n",
        "    count=cursor.rowcount;\n",
        "    print(count+i, \"Record inserted successfully into serie table\")\n",
        "  #----------------------------------------------------------------\n",
        "  for i in range(len(ListaCatSerie)):\n",
        "    postgres_insert_query = \"\"\" INSERT INTO  categSerie(IDserie, idcateg) VALUES (%s,%s)\"\"\"\n",
        "    insert=ListaCatSerie[i].split(\";\")\n",
        "    FKidS=insert[0]\n",
        "    FKidCS=insert[1]\n",
        "    record_to_insert = (FKidS,FKidCS)\n",
        "    cursor.execute(postgres_insert_query, record_to_insert)\n",
        "    \n",
        "    conn.commit()\n",
        "    count=cursor.rowcount;\n",
        "    print(count+i, \"Record inserted successfully into categserie table\")\n",
        "  #----------------------------------------------------------------\n",
        "  for i in range(len(ListaEP)):\n",
        "    postgres_insert_query = \"\"\" INSERT INTO  Episodio(ID,numEP,temporada,titulo, resumo) VALUES (%s,%s,%s,%s)\"\"\"\n",
        "    insert=ListaEp[i].split(\";\")\n",
        "    idEP=insert[0]\n",
        "    numEP=insert[1]\n",
        "    tempEP=insert[2]\n",
        "    tituloEP=insert[3]\n",
        "    resumoEP=insert[4]\n",
        "\n",
        "    record_to_insert = (idEP,tituloEP,tempEP,resumoEP)\n",
        "    cursor.execute(postgres_insert_query, record_to_insert)\n",
        "    \n",
        "    conn.commit()\n",
        "    count=cursor.rowcount;\n",
        "    print(count+i, \"Record inserted successfully into episodio table\")\n",
        "  #---------------------------------------------------------------------------\n",
        "  for i in range(len(ListaPers)):\n",
        "    postgres_insert_query = \"\"\" INSERT INTO  Personagem(ID, nome) VALUES (%s,%s)\"\"\"\n",
        "    insert=ListaPers[i].split(\";\")\n",
        "    idP=insert[0]\n",
        "    nomeP=insert[1]\n",
        "\n",
        "    record_to_insert = (idP,nomeP)\n",
        "    cursor.execute(postgres_insert_query, record_to_insert)\n",
        "    \n",
        "    conn.commit()\n",
        "    count=cursor.rowcount;\n",
        "    print(count+i, \"Record inserted successfully into categoria table\")\n",
        "  #---------------------------------------------------------------------------\n",
        "  for i in range(len(ListaPerf)):\n",
        "    postgres_insert_query = \"\"\" INSERT INTO  Performance(IDep,idPers,idator) VALUES (%s,%s,%s)\"\"\"\n",
        "    insert=ListaPerf[i].split(\";\")\n",
        "    FKideP=insert[0]\n",
        "    FKidPers=insert[1]\n",
        "    FKidAtor=insert[2]\n",
        "    record_to_insert = (FKideP,FKidPers,FKidAtor)\n",
        "    cursor.execute(postgres_insert_query, record_to_insert)\n",
        "    \n",
        "    conn.commit()\n",
        "    count=cursor.rowcount;\n",
        "    print(count+i, \"Record inserted successfully into categoria table\")\n",
        "\n",
        "  \n",
        "except (Exception, psycopg2.Error) as error:\n",
        "    print(\"Failed to insert record into mobile table\", error)\n",
        "  \n",
        "finally:\n",
        "    # closing database connection.\n",
        "    if conn:\n",
        "        cursor.close()\n",
        "        conn.close()\n",
        "        print(\"PostgreSQL connection is closed\")"
      ],
      "metadata": {
        "colab": {
          "base_uri": "https://localhost:8080/"
        },
        "id": "ZZsfQTv6Hsfi",
        "outputId": "ac0ec1e9-7741-4467-8281-c2e12917cbfd"
      },
      "execution_count": 82,
      "outputs": [
        {
          "output_type": "stream",
          "name": "stdout",
          "text": [
            "1 Record inserted successfully into ator table\n",
            "2 Record inserted successfully into ator table\n",
            "3 Record inserted successfully into ator table\n",
            "4 Record inserted successfully into ator table\n",
            "5 Record inserted successfully into ator table\n",
            "6 Record inserted successfully into ator table\n",
            "7 Record inserted successfully into ator table\n",
            "8 Record inserted successfully into ator table\n",
            "9 Record inserted successfully into ator table\n",
            "10 Record inserted successfully into ator table\n",
            "11 Record inserted successfully into ator table\n",
            "12 Record inserted successfully into ator table\n",
            "13 Record inserted successfully into ator table\n",
            "14 Record inserted successfully into ator table\n",
            "15 Record inserted successfully into ator table\n",
            "16 Record inserted successfully into ator table\n",
            "17 Record inserted successfully into ator table\n",
            "18 Record inserted successfully into ator table\n",
            "19 Record inserted successfully into ator table\n",
            "20 Record inserted successfully into ator table\n",
            "21 Record inserted successfully into ator table\n",
            "22 Record inserted successfully into ator table\n",
            "23 Record inserted successfully into ator table\n",
            "24 Record inserted successfully into ator table\n",
            "25 Record inserted successfully into ator table\n",
            "26 Record inserted successfully into ator table\n",
            "27 Record inserted successfully into ator table\n",
            "28 Record inserted successfully into ator table\n",
            "29 Record inserted successfully into ator table\n",
            "30 Record inserted successfully into ator table\n",
            "31 Record inserted successfully into ator table\n",
            "32 Record inserted successfully into ator table\n",
            "33 Record inserted successfully into ator table\n",
            "34 Record inserted successfully into ator table\n",
            "35 Record inserted successfully into ator table\n",
            "36 Record inserted successfully into ator table\n",
            "37 Record inserted successfully into ator table\n",
            "38 Record inserted successfully into ator table\n",
            "39 Record inserted successfully into ator table\n",
            "40 Record inserted successfully into ator table\n",
            "41 Record inserted successfully into ator table\n",
            "42 Record inserted successfully into ator table\n",
            "43 Record inserted successfully into ator table\n",
            "44 Record inserted successfully into ator table\n",
            "45 Record inserted successfully into ator table\n",
            "46 Record inserted successfully into ator table\n",
            "47 Record inserted successfully into ator table\n",
            "48 Record inserted successfully into ator table\n",
            "49 Record inserted successfully into ator table\n",
            "50 Record inserted successfully into ator table\n",
            "51 Record inserted successfully into ator table\n",
            "52 Record inserted successfully into ator table\n",
            "53 Record inserted successfully into ator table\n",
            "54 Record inserted successfully into ator table\n",
            "55 Record inserted successfully into ator table\n",
            "56 Record inserted successfully into ator table\n",
            "57 Record inserted successfully into ator table\n",
            "58 Record inserted successfully into ator table\n",
            "59 Record inserted successfully into ator table\n",
            "60 Record inserted successfully into ator table\n",
            "61 Record inserted successfully into ator table\n",
            "62 Record inserted successfully into ator table\n",
            "63 Record inserted successfully into ator table\n",
            "64 Record inserted successfully into ator table\n",
            "65 Record inserted successfully into ator table\n",
            "1 Record inserted successfully into categoria table\n",
            "2 Record inserted successfully into categoria table\n",
            "3 Record inserted successfully into categoria table\n",
            "4 Record inserted successfully into categoria table\n",
            "5 Record inserted successfully into categoria table\n",
            "6 Record inserted successfully into categoria table\n",
            "7 Record inserted successfully into categoria table\n",
            "1 Record inserted successfully into serie table\n",
            "1 Record inserted successfully into categserie table\n",
            "2 Record inserted successfully into categserie table\n",
            "3 Record inserted successfully into categserie table\n",
            "Failed to insert record into mobile table name 'ListaEp' is not defined\n",
            "PostgreSQL connection is closed\n"
          ]
        }
      ]
    },
    {
      "cell_type": "markdown",
      "metadata": {
        "id": "0Lwtn8mUiLjq"
      },
      "source": [
        "# 9. Select das tabelas (Cada uma)"
      ]
    },
    {
      "cell_type": "code",
      "execution_count": 70,
      "metadata": {
        "colab": {
          "base_uri": "https://localhost:8080/",
          "height": 328
        },
        "id": "0-wldm7ZiP8R",
        "outputId": "ef78a6ef-7dfa-4c22-b4e9-c96e11513413"
      },
      "outputs": [
        {
          "output_type": "error",
          "ename": "InterfaceError",
          "evalue": "ignored",
          "traceback": [
            "\u001b[0;31m---------------------------------------------------------------------------\u001b[0m",
            "\u001b[0;31mInterfaceError\u001b[0m                            Traceback (most recent call last)",
            "\u001b[0;32m<ipython-input-70-0c16c88a80a8>\u001b[0m in \u001b[0;36m<module>\u001b[0;34m\u001b[0m\n\u001b[0;32m----> 1\u001b[0;31m \u001b[0mres\u001b[0m \u001b[0;34m=\u001b[0m \u001b[0mpd\u001b[0m\u001b[0;34m.\u001b[0m\u001b[0mread_sql_query\u001b[0m\u001b[0;34m(\u001b[0m\u001b[0;34m\"\"\"select * from area \"\"\"\u001b[0m\u001b[0;34m,\u001b[0m\u001b[0mconn\u001b[0m\u001b[0;34m)\u001b[0m\u001b[0;34m\u001b[0m\u001b[0;34m\u001b[0m\u001b[0m\n\u001b[0m\u001b[1;32m      2\u001b[0m \u001b[0mres\u001b[0m\u001b[0;34m\u001b[0m\u001b[0;34m\u001b[0m\u001b[0m\n",
            "\u001b[0;32m/usr/local/lib/python3.7/dist-packages/pandas/io/sql.py\u001b[0m in \u001b[0;36mread_sql_query\u001b[0;34m(sql, con, index_col, coerce_float, params, parse_dates, chunksize, dtype)\u001b[0m\n\u001b[1;32m    441\u001b[0m         \u001b[0mparse_dates\u001b[0m\u001b[0;34m=\u001b[0m\u001b[0mparse_dates\u001b[0m\u001b[0;34m,\u001b[0m\u001b[0;34m\u001b[0m\u001b[0;34m\u001b[0m\u001b[0m\n\u001b[1;32m    442\u001b[0m         \u001b[0mchunksize\u001b[0m\u001b[0;34m=\u001b[0m\u001b[0mchunksize\u001b[0m\u001b[0;34m,\u001b[0m\u001b[0;34m\u001b[0m\u001b[0;34m\u001b[0m\u001b[0m\n\u001b[0;32m--> 443\u001b[0;31m         \u001b[0mdtype\u001b[0m\u001b[0;34m=\u001b[0m\u001b[0mdtype\u001b[0m\u001b[0;34m,\u001b[0m\u001b[0;34m\u001b[0m\u001b[0;34m\u001b[0m\u001b[0m\n\u001b[0m\u001b[1;32m    444\u001b[0m     )\n\u001b[1;32m    445\u001b[0m \u001b[0;34m\u001b[0m\u001b[0m\n",
            "\u001b[0;32m/usr/local/lib/python3.7/dist-packages/pandas/io/sql.py\u001b[0m in \u001b[0;36mread_query\u001b[0;34m(self, sql, index_col, coerce_float, params, parse_dates, chunksize, dtype)\u001b[0m\n\u001b[1;32m   2114\u001b[0m \u001b[0;34m\u001b[0m\u001b[0m\n\u001b[1;32m   2115\u001b[0m         \u001b[0margs\u001b[0m \u001b[0;34m=\u001b[0m \u001b[0m_convert_params\u001b[0m\u001b[0;34m(\u001b[0m\u001b[0msql\u001b[0m\u001b[0;34m,\u001b[0m \u001b[0mparams\u001b[0m\u001b[0;34m)\u001b[0m\u001b[0;34m\u001b[0m\u001b[0;34m\u001b[0m\u001b[0m\n\u001b[0;32m-> 2116\u001b[0;31m         \u001b[0mcursor\u001b[0m \u001b[0;34m=\u001b[0m \u001b[0mself\u001b[0m\u001b[0;34m.\u001b[0m\u001b[0mexecute\u001b[0m\u001b[0;34m(\u001b[0m\u001b[0;34m*\u001b[0m\u001b[0margs\u001b[0m\u001b[0;34m)\u001b[0m\u001b[0;34m\u001b[0m\u001b[0;34m\u001b[0m\u001b[0m\n\u001b[0m\u001b[1;32m   2117\u001b[0m         \u001b[0mcolumns\u001b[0m \u001b[0;34m=\u001b[0m \u001b[0;34m[\u001b[0m\u001b[0mcol_desc\u001b[0m\u001b[0;34m[\u001b[0m\u001b[0;36m0\u001b[0m\u001b[0;34m]\u001b[0m \u001b[0;32mfor\u001b[0m \u001b[0mcol_desc\u001b[0m \u001b[0;32min\u001b[0m \u001b[0mcursor\u001b[0m\u001b[0;34m.\u001b[0m\u001b[0mdescription\u001b[0m\u001b[0;34m]\u001b[0m\u001b[0;34m\u001b[0m\u001b[0;34m\u001b[0m\u001b[0m\n\u001b[1;32m   2118\u001b[0m \u001b[0;34m\u001b[0m\u001b[0m\n",
            "\u001b[0;32m/usr/local/lib/python3.7/dist-packages/pandas/io/sql.py\u001b[0m in \u001b[0;36mexecute\u001b[0;34m(self, *args, **kwargs)\u001b[0m\n\u001b[1;32m   2052\u001b[0m             \u001b[0mcur\u001b[0m \u001b[0;34m=\u001b[0m \u001b[0mself\u001b[0m\u001b[0;34m.\u001b[0m\u001b[0mcon\u001b[0m\u001b[0;34m\u001b[0m\u001b[0;34m\u001b[0m\u001b[0m\n\u001b[1;32m   2053\u001b[0m         \u001b[0;32melse\u001b[0m\u001b[0;34m:\u001b[0m\u001b[0;34m\u001b[0m\u001b[0;34m\u001b[0m\u001b[0m\n\u001b[0;32m-> 2054\u001b[0;31m             \u001b[0mcur\u001b[0m \u001b[0;34m=\u001b[0m \u001b[0mself\u001b[0m\u001b[0;34m.\u001b[0m\u001b[0mcon\u001b[0m\u001b[0;34m.\u001b[0m\u001b[0mcursor\u001b[0m\u001b[0;34m(\u001b[0m\u001b[0;34m)\u001b[0m\u001b[0;34m\u001b[0m\u001b[0;34m\u001b[0m\u001b[0m\n\u001b[0m\u001b[1;32m   2055\u001b[0m         \u001b[0;32mtry\u001b[0m\u001b[0;34m:\u001b[0m\u001b[0;34m\u001b[0m\u001b[0;34m\u001b[0m\u001b[0m\n\u001b[1;32m   2056\u001b[0m             \u001b[0mcur\u001b[0m\u001b[0;34m.\u001b[0m\u001b[0mexecute\u001b[0m\u001b[0;34m(\u001b[0m\u001b[0;34m*\u001b[0m\u001b[0margs\u001b[0m\u001b[0;34m,\u001b[0m \u001b[0;34m**\u001b[0m\u001b[0mkwargs\u001b[0m\u001b[0;34m)\u001b[0m\u001b[0;34m\u001b[0m\u001b[0;34m\u001b[0m\u001b[0m\n",
            "\u001b[0;31mInterfaceError\u001b[0m: connection already closed"
          ]
        }
      ],
      "source": [
        "res = pd.read_sql_query(\"\"\"select * from area \"\"\",conn)\n",
        "res"
      ]
    }
  ],
  "metadata": {
    "colab": {
      "collapsed_sections": [],
      "provenance": [],
      "include_colab_link": true
    },
    "kernelspec": {
      "display_name": "Python 3",
      "language": "python",
      "name": "python3"
    },
    "language_info": {
      "codemirror_mode": {
        "name": "ipython",
        "version": 3
      },
      "file_extension": ".py",
      "mimetype": "text/x-python",
      "name": "python",
      "nbconvert_exporter": "python",
      "pygments_lexer": "ipython3",
      "version": "3.6.7"
    }
  },
  "nbformat": 4,
  "nbformat_minor": 0
}